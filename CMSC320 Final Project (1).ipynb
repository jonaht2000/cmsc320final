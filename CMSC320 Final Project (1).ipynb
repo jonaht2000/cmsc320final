{
 "cells": [
  {
   "cell_type": "markdown",
   "id": "bizarre-aerospace",
   "metadata": {},
   "source": [
    "# Heart Attack Analysis and Prediction Tutorial\n",
    "By Jonah Trani, Hans, Andy"
   ]
  },
  {
   "cell_type": "markdown",
   "id": "temporal-frequency",
   "metadata": {},
   "source": [
    "### Introduction\n",
    "Heart disease is the leading cause of death among men and women in the United States. According to the Center for Disease Control, around [655,000 people each year die from cardiovascular disease](https://www.cdc.gov/heartdisease/facts.htm) - thats one in every four deaths. Although this number contains a number of diseases including infections and genetic defects, many heart diseases can be prevented by healthy lifestyle choices. Over the years, we have been able to discern a number of risk factors for individuals, including high cholesterol and blood pressure. In this tutorial, we will be going through the entire data pipeline process, from data collection to analysis to create a model based off of these risk factors and predict individuals with higher risk of having heart-related illness.\n",
    "\n",
    "---\n",
    "\n",
    "### Data Collection\n",
    "\n",
    "The first step in the data science pipeline is to collect our data. We will be using a number of useful Python 3 libraries including pandas, numpy, matplotlib, seaborn, and sckit-learn. These are all great tools for data sctructures, manipulation, and visualization."
   ]
  },
  {
   "cell_type": "code",
   "execution_count": 122,
   "id": "transparent-check",
   "metadata": {},
   "outputs": [],
   "source": [
    "## Import some basic libraries\n",
    "import pandas as pd\n",
    "import numpy as np\n",
    "import matplotlib.pyplot as plt\n",
    "import seaborn as sns\n",
    "warnings.filterwarnings('ignore')"
   ]
  },
  {
   "cell_type": "code",
   "execution_count": 125,
   "id": "differential-procedure",
   "metadata": {},
   "outputs": [
    {
     "data": {
      "text/plain": [
       "age         303\n",
       "sex         303\n",
       "cp          303\n",
       "trtbps      303\n",
       "chol        303\n",
       "fbs         303\n",
       "restecg     303\n",
       "thalachh    303\n",
       "exng        303\n",
       "oldpeak     303\n",
       "slp         303\n",
       "caa         303\n",
       "thall       303\n",
       "output      303\n",
       "dtype: int64"
      ]
     },
     "execution_count": 125,
     "metadata": {},
     "output_type": "execute_result"
    }
   ],
   "source": [
    "## Load in data\n",
    "df_heart = pd.read_csv(\"heart.csv\")\n",
    "df_heart.count()"
   ]
  },
  {
   "cell_type": "code",
   "execution_count": 126,
   "id": "certified-vessel",
   "metadata": {},
   "outputs": [
    {
     "data": {
      "text/html": [
       "<div>\n",
       "<style scoped>\n",
       "    .dataframe tbody tr th:only-of-type {\n",
       "        vertical-align: middle;\n",
       "    }\n",
       "\n",
       "    .dataframe tbody tr th {\n",
       "        vertical-align: top;\n",
       "    }\n",
       "\n",
       "    .dataframe thead th {\n",
       "        text-align: right;\n",
       "    }\n",
       "</style>\n",
       "<table border=\"1\" class=\"dataframe\">\n",
       "  <thead>\n",
       "    <tr style=\"text-align: right;\">\n",
       "      <th></th>\n",
       "      <th>age</th>\n",
       "      <th>sex</th>\n",
       "      <th>cp</th>\n",
       "      <th>trtbps</th>\n",
       "      <th>chol</th>\n",
       "      <th>fbs</th>\n",
       "      <th>restecg</th>\n",
       "      <th>thalachh</th>\n",
       "      <th>exng</th>\n",
       "      <th>oldpeak</th>\n",
       "      <th>slp</th>\n",
       "      <th>caa</th>\n",
       "      <th>thall</th>\n",
       "      <th>output</th>\n",
       "    </tr>\n",
       "  </thead>\n",
       "  <tbody>\n",
       "    <tr>\n",
       "      <th>0</th>\n",
       "      <td>63</td>\n",
       "      <td>1</td>\n",
       "      <td>3</td>\n",
       "      <td>145</td>\n",
       "      <td>233</td>\n",
       "      <td>1</td>\n",
       "      <td>0</td>\n",
       "      <td>150</td>\n",
       "      <td>0</td>\n",
       "      <td>2.3</td>\n",
       "      <td>0</td>\n",
       "      <td>0</td>\n",
       "      <td>1</td>\n",
       "      <td>1</td>\n",
       "    </tr>\n",
       "    <tr>\n",
       "      <th>1</th>\n",
       "      <td>37</td>\n",
       "      <td>1</td>\n",
       "      <td>2</td>\n",
       "      <td>130</td>\n",
       "      <td>250</td>\n",
       "      <td>0</td>\n",
       "      <td>1</td>\n",
       "      <td>187</td>\n",
       "      <td>0</td>\n",
       "      <td>3.5</td>\n",
       "      <td>0</td>\n",
       "      <td>0</td>\n",
       "      <td>2</td>\n",
       "      <td>1</td>\n",
       "    </tr>\n",
       "    <tr>\n",
       "      <th>2</th>\n",
       "      <td>41</td>\n",
       "      <td>0</td>\n",
       "      <td>1</td>\n",
       "      <td>130</td>\n",
       "      <td>204</td>\n",
       "      <td>0</td>\n",
       "      <td>0</td>\n",
       "      <td>172</td>\n",
       "      <td>0</td>\n",
       "      <td>1.4</td>\n",
       "      <td>2</td>\n",
       "      <td>0</td>\n",
       "      <td>2</td>\n",
       "      <td>1</td>\n",
       "    </tr>\n",
       "    <tr>\n",
       "      <th>3</th>\n",
       "      <td>56</td>\n",
       "      <td>1</td>\n",
       "      <td>1</td>\n",
       "      <td>120</td>\n",
       "      <td>236</td>\n",
       "      <td>0</td>\n",
       "      <td>1</td>\n",
       "      <td>178</td>\n",
       "      <td>0</td>\n",
       "      <td>0.8</td>\n",
       "      <td>2</td>\n",
       "      <td>0</td>\n",
       "      <td>2</td>\n",
       "      <td>1</td>\n",
       "    </tr>\n",
       "    <tr>\n",
       "      <th>4</th>\n",
       "      <td>57</td>\n",
       "      <td>0</td>\n",
       "      <td>0</td>\n",
       "      <td>120</td>\n",
       "      <td>354</td>\n",
       "      <td>0</td>\n",
       "      <td>1</td>\n",
       "      <td>163</td>\n",
       "      <td>1</td>\n",
       "      <td>0.6</td>\n",
       "      <td>2</td>\n",
       "      <td>0</td>\n",
       "      <td>2</td>\n",
       "      <td>1</td>\n",
       "    </tr>\n",
       "  </tbody>\n",
       "</table>\n",
       "</div>"
      ],
      "text/plain": [
       "   age  sex  cp  trtbps  chol  fbs  restecg  thalachh  exng  oldpeak  slp  \\\n",
       "0   63    1   3     145   233    1        0       150     0      2.3    0   \n",
       "1   37    1   2     130   250    0        1       187     0      3.5    0   \n",
       "2   41    0   1     130   204    0        0       172     0      1.4    2   \n",
       "3   56    1   1     120   236    0        1       178     0      0.8    2   \n",
       "4   57    0   0     120   354    0        1       163     1      0.6    2   \n",
       "\n",
       "   caa  thall  output  \n",
       "0    0      1       1  \n",
       "1    0      2       1  \n",
       "2    0      2       1  \n",
       "3    0      2       1  \n",
       "4    0      2       1  "
      ]
     },
     "execution_count": 126,
     "metadata": {},
     "output_type": "execute_result"
    }
   ],
   "source": [
    "df_heart.head()"
   ]
  },
  {
   "cell_type": "markdown",
   "id": "innovative-chrome",
   "metadata": {},
   "source": [
    "Reading more into the dataset we can see what each of these variables represents as it is not immediately clear. There are 8 categorical variables, including the output which we will be hoping to predict.\n",
    "The descriptions of the variables are as follows:\n",
    "\n",
    "- **age**: The age of the person\n",
    "- **sex**: 0 if female, 1 if male\n",
    "- **cp**: chest pain type, 1 if typical angina, 2 if atypical angina, 3 if non-anginal pain, and 4 if asymptomatic\n",
    "- **trtbps**: resting blood pressure\n",
    "- **chol**: cholesterol level\n",
    "- **fbs**: fasting blood sugar level, 0 if <= 120 mg/dl, 1 if > 120 mg/dl\n",
    "- **restecg**: resting electrocardiographic results, 0 if normal, 1 if having ST-T wave abnormality, 2 if showing probable or definite left ventricular hypertrophy by Estes' criteria\n",
    "- **thalachh**: person's maximum heart rate achieved\n",
    "- **exng**: exercise induced angina, 1 if yes, 0 if no\n",
    "- **oldpeak**: st depression induced by exercise relative to rest\n",
    "- **slp**: slope of the peak exercise ST segment, 1 if upsloping, 2 if flat, 3 if downsloping\n",
    "- **caa**: number of major vessels (0-3)\n",
    "- **thall**: blood disorder called thalassemia, 0 if normal, 1 if fixed defect, 2 if reversable defect\n",
    "- **output**: 1 if has heart disease, 0 if not\n",
    "\n",
    "Of those, sex, cp, fbs, restecg, exng, slp, and thall are all dummy variables and will be treated as such in our analysis."
   ]
  },
  {
   "cell_type": "markdown",
   "id": "olive-maximum",
   "metadata": {},
   "source": [
    "---\n",
    "### Data Processing\n",
    "Now that we've brought in our dataset, we need to tidy it and take care of any missing data. We want to do this to make sure our code isn't running into any columns with missing values that could mess with our results, rather first to take care of the missing data."
   ]
  },
  {
   "cell_type": "code",
   "execution_count": 127,
   "id": "arctic-character",
   "metadata": {},
   "outputs": [
    {
     "data": {
      "text/plain": [
       "age         0\n",
       "sex         0\n",
       "cp          0\n",
       "trtbps      0\n",
       "chol        0\n",
       "fbs         0\n",
       "restecg     0\n",
       "thalachh    0\n",
       "exng        0\n",
       "oldpeak     0\n",
       "slp         0\n",
       "caa         0\n",
       "thall       0\n",
       "output      0\n",
       "dtype: int64"
      ]
     },
     "execution_count": 127,
     "metadata": {},
     "output_type": "execute_result"
    }
   ],
   "source": [
    "df_heart.isnull().sum()"
   ]
  },
  {
   "cell_type": "markdown",
   "id": "trying-insertion",
   "metadata": {},
   "source": [
    "From this function we can see that our dataset is totally complete, so we have 303 individuals with no missing data. Since we will be using all the columns available for our dataset, we will keep the table as is but give the values better descriptions."
   ]
  },
  {
   "cell_type": "code",
   "execution_count": 128,
   "id": "magnetic-indication",
   "metadata": {},
   "outputs": [],
   "source": [
    "df_heart.columns = [\"age\", \"sex\", \"chest_pain\", \"resting_bp\", \"cholesterol\", \"fasting_bloodsugar\", \"rest_ecg\", \"max_heartrate\", \"exercise_angina\", \n",
    "                    \"st_depression\", \"st_slope\", \"num_vessels\", \"thalassemia\", \"diagnosis\"]"
   ]
  },
  {
   "cell_type": "markdown",
   "id": "dutch-mouth",
   "metadata": {},
   "source": [
    "----\n",
    "### Exploratory Data Analysis\n",
    "With all our data ready to go, the next step is to look at our data and see if we can find any trends. First we can look at the spread of different variables, including age, sex, number of blood vessles, type of chest pain, cholesterol levels, and presence of thalassemia. Using the powerful seaborn functions countplot() and distplot() we can represent these plots. We will also be using the map() function to map our dummy variable values to more understandable values within the plots."
   ]
  },
  {
   "cell_type": "code",
   "execution_count": 129,
   "id": "excess-curve",
   "metadata": {},
   "outputs": [
    {
     "data": {
      "image/png": "[encoded data removed]",
      "text/plain": [
       "<Figure size 720x720 with 1 Axes>"
      ]
     },
     "metadata": {
      "needs_background": "light"
     },
     "output_type": "display_data"
    }
   ],
   "source": [
    "plt.figure(figsize=(10,10))\n",
    "ax = sns.distplot(df_heart[\"age\"])"
   ]
  },
  {
   "cell_type": "code",
   "execution_count": 130,
   "id": "planned-farmer",
   "metadata": {},
   "outputs": [
    {
     "data": {
      "image/png": "[encoded data removed]",
      "text/plain": [
       "<Figure size 432x288 with 1 Axes>"
      ]
     },
     "metadata": {
      "needs_background": "light"
     },
     "output_type": "display_data"
    }
   ],
   "source": [
    "## Temporary hash key table to map to\n",
    "s = { 0:\"female\", 1:\"male\" }\n",
    "df_heart[\"sex_n\"] = df_heart[\"sex\"].map(s)\n",
    "plt.title(\"Sex\")\n",
    "ax = sns.countplot(x=\"sex_n\", data=df_heart)"
   ]
  },
  {
   "cell_type": "code",
   "execution_count": 131,
   "id": "neural-definition",
   "metadata": {},
   "outputs": [
    {
     "data": {
      "image/png": "[encoded data removed]",
      "text/plain": [
       "<Figure size 432x288 with 1 Axes>"
      ]
     },
     "metadata": {
      "needs_background": "light"
     },
     "output_type": "display_data"
    }
   ],
   "source": [
    "c = { 0:\"typical angina\", 1:\"atypical angina\", 2:\"non-anginal pain\", 3:\"asymptomatic\"}\n",
    "df_heart[\"chest_pain_n\"] = df_heart[\"chest_pain\"].map(c)\n",
    "plt.title(\"Chest Pain Type\")\n",
    "ax = sns.countplot(x=\"chest_pain_n\", data=df_heart)"
   ]
  },
  {
   "cell_type": "code",
   "execution_count": 132,
   "id": "acoustic-technician",
   "metadata": {},
   "outputs": [
    {
     "data": {
      "image/png": "[encoded data removed]",
      "text/plain": [
       "<Figure size 432x288 with 1 Axes>"
      ]
     },
     "metadata": {
      "needs_background": "light"
     },
     "output_type": "display_data"
    }
   ],
   "source": [
    "plt.title(\"Cholesterol Level\")\n",
    "ax = sns.distplot(df_heart[\"cholesterol\"])"
   ]
  },
  {
   "cell_type": "code",
   "execution_count": 133,
   "id": "exact-found",
   "metadata": {},
   "outputs": [
    {
     "data": {
      "image/png": "[encoded data removed]",
      "text/plain": [
       "<Figure size 432x288 with 1 Axes>"
      ]
     },
     "metadata": {
      "needs_background": "light"
     },
     "output_type": "display_data"
    }
   ],
   "source": [
    "fb = { 0: \"<= 120 mg/dl\", 1: \"> 120 mg/dl\"}\n",
    "df_heart[\"fasting_bloodsugar_n\"] = df_heart[\"fasting_bloodsugar\"].map(fb)\n",
    "plt.title(\"Fasting Blood Sugar\")\n",
    "ax = sns.countplot(x = \"fasting_bloodsugar_n\", data = df_heart)"
   ]
  },
  {
   "cell_type": "code",
   "execution_count": 134,
   "id": "informational-mainland",
   "metadata": {},
   "outputs": [
    {
     "data": {
      "image/png": "[encoded data removed]",
      "text/plain": [
       "<Figure size 432x288 with 1 Axes>"
      ]
     },
     "metadata": {
      "needs_background": "light"
     },
     "output_type": "display_data"
    }
   ],
   "source": [
    "plt.title(\"Number of Major Blood Vessels\")\n",
    "ax = sns.countplot(x = \"num_vessels\", data = df_heart)"
   ]
  },
  {
   "cell_type": "code",
   "execution_count": 135,
   "id": "undefined-evidence",
   "metadata": {},
   "outputs": [
    {
     "data": {
      "image/png": "[encoded data removed]",
      "text/plain": [
       "<Figure size 432x288 with 1 Axes>"
      ]
     },
     "metadata": {
      "needs_background": "light"
     },
     "output_type": "display_data"
    }
   ],
   "source": [
    "d = {0:\"no heart attack\", 1:\"had heart attack\"}\n",
    "df_heart[\"diagnosis_n\"] = df_heart[\"diagnosis\"].map(d)\n",
    "plt.title(\"Proportion Who Experienced Heart Attack\")\n",
    "ax = sns.countplot(x = \"diagnosis_n\", data = df_heart)"
   ]
  },
  {
   "cell_type": "markdown",
   "id": "built-chart",
   "metadata": {},
   "source": [
    "After looking at some countplots and distribution plots, we can break these down further to see if we see any patterns emerge in looking at these specific variables and people who have had heart issues."
   ]
  },
  {
   "cell_type": "code",
   "execution_count": 136,
   "id": "conscious-extent",
   "metadata": {},
   "outputs": [
    {
     "data": {
      "text/plain": [
       "<AxesSubplot:xlabel='sex_n', ylabel='count'>"
      ]
     },
     "execution_count": 136,
     "metadata": {},
     "output_type": "execute_result"
    },
    {
     "data": {
      "image/png": "[encoded data removed]",
      "text/plain": [
       "<Figure size 432x288 with 1 Axes>"
      ]
     },
     "metadata": {
      "needs_background": "light"
     },
     "output_type": "display_data"
    }
   ],
   "source": [
    "sns.countplot(x = \"sex_n\", hue = \"diagnosis_n\", data = df_heart)"
   ]
  },
  {
   "cell_type": "code",
   "execution_count": 137,
   "id": "bigger-shareware",
   "metadata": {},
   "outputs": [
    {
     "data": {
      "image/png": "[encoded data removed]",
      "text/plain": [
       "<Figure size 432x288 with 1 Axes>"
      ]
     },
     "metadata": {
      "needs_background": "light"
     },
     "output_type": "display_data"
    }
   ],
   "source": [
    "ax = sns.countplot(x = \"chest_pain_n\", hue = \"diagnosis_n\", data = df_heart)"
   ]
  },
  {
   "cell_type": "code",
   "execution_count": 138,
   "id": "international-heath",
   "metadata": {},
   "outputs": [
    {
     "data": {
      "image/png": "[encoded data removed]",
      "text/plain": [
       "<Figure size 432x288 with 1 Axes>"
      ]
     },
     "metadata": {
      "needs_background": "light"
     },
     "output_type": "display_data"
    }
   ],
   "source": [
    "ax = sns.countplot(x = \"fasting_bloodsugar_n\", hue = \"diagnosis_n\", data = df_heart)"
   ]
  },
  {
   "cell_type": "code",
   "execution_count": 139,
   "id": "renewable-wilderness",
   "metadata": {},
   "outputs": [
    {
     "data": {
      "text/plain": [
       "<AxesSubplot:xlabel='num_vessels', ylabel='count'>"
      ]
     },
     "execution_count": 139,
     "metadata": {},
     "output_type": "execute_result"
    },
    {
     "data": {
      "image/png": "[encoded data removed]",
      "text/plain": [
       "<Figure size 432x288 with 1 Axes>"
      ]
     },
     "metadata": {
      "needs_background": "light"
     },
     "output_type": "display_data"
    }
   ],
   "source": [
    "sns.countplot(x = \"num_vessels\", hue = \"diagnosis_n\", data = df_heart)"
   ]
  },
  {
   "cell_type": "code",
   "execution_count": 145,
   "id": "strong-overview",
   "metadata": {},
   "outputs": [
    {
     "data": {
      "text/html": [
       "<div>\n",
       "<style scoped>\n",
       "    .dataframe tbody tr th:only-of-type {\n",
       "        vertical-align: middle;\n",
       "    }\n",
       "\n",
       "    .dataframe tbody tr th {\n",
       "        vertical-align: top;\n",
       "    }\n",
       "\n",
       "    .dataframe thead th {\n",
       "        text-align: right;\n",
       "    }\n",
       "</style>\n",
       "<table border=\"1\" class=\"dataframe\">\n",
       "  <thead>\n",
       "    <tr style=\"text-align: right;\">\n",
       "      <th></th>\n",
       "      <th>age</th>\n",
       "      <th>sex</th>\n",
       "      <th>chest_pain</th>\n",
       "      <th>resting_bp</th>\n",
       "      <th>cholesterol</th>\n",
       "      <th>fasting_bloodsugar</th>\n",
       "      <th>rest_ecg</th>\n",
       "      <th>max_heartrate</th>\n",
       "      <th>exercise_angina</th>\n",
       "      <th>st_depression</th>\n",
       "      <th>st_slope</th>\n",
       "      <th>num_vessels</th>\n",
       "      <th>thalassemia</th>\n",
       "      <th>diagnosis</th>\n",
       "    </tr>\n",
       "  </thead>\n",
       "  <tbody>\n",
       "    <tr>\n",
       "      <th>0</th>\n",
       "      <td>63</td>\n",
       "      <td>1</td>\n",
       "      <td>3</td>\n",
       "      <td>145</td>\n",
       "      <td>233</td>\n",
       "      <td>1</td>\n",
       "      <td>0</td>\n",
       "      <td>150</td>\n",
       "      <td>0</td>\n",
       "      <td>2.3</td>\n",
       "      <td>0</td>\n",
       "      <td>0</td>\n",
       "      <td>1</td>\n",
       "      <td>1</td>\n",
       "    </tr>\n",
       "    <tr>\n",
       "      <th>1</th>\n",
       "      <td>37</td>\n",
       "      <td>1</td>\n",
       "      <td>2</td>\n",
       "      <td>130</td>\n",
       "      <td>250</td>\n",
       "      <td>0</td>\n",
       "      <td>1</td>\n",
       "      <td>187</td>\n",
       "      <td>0</td>\n",
       "      <td>3.5</td>\n",
       "      <td>0</td>\n",
       "      <td>0</td>\n",
       "      <td>2</td>\n",
       "      <td>1</td>\n",
       "    </tr>\n",
       "    <tr>\n",
       "      <th>2</th>\n",
       "      <td>41</td>\n",
       "      <td>0</td>\n",
       "      <td>1</td>\n",
       "      <td>130</td>\n",
       "      <td>204</td>\n",
       "      <td>0</td>\n",
       "      <td>0</td>\n",
       "      <td>172</td>\n",
       "      <td>0</td>\n",
       "      <td>1.4</td>\n",
       "      <td>2</td>\n",
       "      <td>0</td>\n",
       "      <td>2</td>\n",
       "      <td>1</td>\n",
       "    </tr>\n",
       "    <tr>\n",
       "      <th>3</th>\n",
       "      <td>56</td>\n",
       "      <td>1</td>\n",
       "      <td>1</td>\n",
       "      <td>120</td>\n",
       "      <td>236</td>\n",
       "      <td>0</td>\n",
       "      <td>1</td>\n",
       "      <td>178</td>\n",
       "      <td>0</td>\n",
       "      <td>0.8</td>\n",
       "      <td>2</td>\n",
       "      <td>0</td>\n",
       "      <td>2</td>\n",
       "      <td>1</td>\n",
       "    </tr>\n",
       "    <tr>\n",
       "      <th>4</th>\n",
       "      <td>57</td>\n",
       "      <td>0</td>\n",
       "      <td>0</td>\n",
       "      <td>120</td>\n",
       "      <td>354</td>\n",
       "      <td>0</td>\n",
       "      <td>1</td>\n",
       "      <td>163</td>\n",
       "      <td>1</td>\n",
       "      <td>0.6</td>\n",
       "      <td>2</td>\n",
       "      <td>0</td>\n",
       "      <td>2</td>\n",
       "      <td>1</td>\n",
       "    </tr>\n",
       "    <tr>\n",
       "      <th>...</th>\n",
       "      <td>...</td>\n",
       "      <td>...</td>\n",
       "      <td>...</td>\n",
       "      <td>...</td>\n",
       "      <td>...</td>\n",
       "      <td>...</td>\n",
       "      <td>...</td>\n",
       "      <td>...</td>\n",
       "      <td>...</td>\n",
       "      <td>...</td>\n",
       "      <td>...</td>\n",
       "      <td>...</td>\n",
       "      <td>...</td>\n",
       "      <td>...</td>\n",
       "    </tr>\n",
       "    <tr>\n",
       "      <th>298</th>\n",
       "      <td>57</td>\n",
       "      <td>0</td>\n",
       "      <td>0</td>\n",
       "      <td>140</td>\n",
       "      <td>241</td>\n",
       "      <td>0</td>\n",
       "      <td>1</td>\n",
       "      <td>123</td>\n",
       "      <td>1</td>\n",
       "      <td>0.2</td>\n",
       "      <td>1</td>\n",
       "      <td>0</td>\n",
       "      <td>3</td>\n",
       "      <td>0</td>\n",
       "    </tr>\n",
       "    <tr>\n",
       "      <th>299</th>\n",
       "      <td>45</td>\n",
       "      <td>1</td>\n",
       "      <td>3</td>\n",
       "      <td>110</td>\n",
       "      <td>264</td>\n",
       "      <td>0</td>\n",
       "      <td>1</td>\n",
       "      <td>132</td>\n",
       "      <td>0</td>\n",
       "      <td>1.2</td>\n",
       "      <td>1</td>\n",
       "      <td>0</td>\n",
       "      <td>3</td>\n",
       "      <td>0</td>\n",
       "    </tr>\n",
       "    <tr>\n",
       "      <th>300</th>\n",
       "      <td>68</td>\n",
       "      <td>1</td>\n",
       "      <td>0</td>\n",
       "      <td>144</td>\n",
       "      <td>193</td>\n",
       "      <td>1</td>\n",
       "      <td>1</td>\n",
       "      <td>141</td>\n",
       "      <td>0</td>\n",
       "      <td>3.4</td>\n",
       "      <td>1</td>\n",
       "      <td>2</td>\n",
       "      <td>3</td>\n",
       "      <td>0</td>\n",
       "    </tr>\n",
       "    <tr>\n",
       "      <th>301</th>\n",
       "      <td>57</td>\n",
       "      <td>1</td>\n",
       "      <td>0</td>\n",
       "      <td>130</td>\n",
       "      <td>131</td>\n",
       "      <td>0</td>\n",
       "      <td>1</td>\n",
       "      <td>115</td>\n",
       "      <td>1</td>\n",
       "      <td>1.2</td>\n",
       "      <td>1</td>\n",
       "      <td>1</td>\n",
       "      <td>3</td>\n",
       "      <td>0</td>\n",
       "    </tr>\n",
       "    <tr>\n",
       "      <th>302</th>\n",
       "      <td>57</td>\n",
       "      <td>0</td>\n",
       "      <td>1</td>\n",
       "      <td>130</td>\n",
       "      <td>236</td>\n",
       "      <td>0</td>\n",
       "      <td>0</td>\n",
       "      <td>174</td>\n",
       "      <td>0</td>\n",
       "      <td>0.0</td>\n",
       "      <td>1</td>\n",
       "      <td>1</td>\n",
       "      <td>2</td>\n",
       "      <td>0</td>\n",
       "    </tr>\n",
       "  </tbody>\n",
       "</table>\n",
       "<p>303 rows × 14 columns</p>\n",
       "</div>"
      ],
      "text/plain": [
       "     age  sex  chest_pain  resting_bp  cholesterol  fasting_bloodsugar  \\\n",
       "0     63    1           3         145          233                   1   \n",
       "1     37    1           2         130          250                   0   \n",
       "2     41    0           1         130          204                   0   \n",
       "3     56    1           1         120          236                   0   \n",
       "4     57    0           0         120          354                   0   \n",
       "..   ...  ...         ...         ...          ...                 ...   \n",
       "298   57    0           0         140          241                   0   \n",
       "299   45    1           3         110          264                   0   \n",
       "300   68    1           0         144          193                   1   \n",
       "301   57    1           0         130          131                   0   \n",
       "302   57    0           1         130          236                   0   \n",
       "\n",
       "     rest_ecg  max_heartrate  exercise_angina  st_depression  st_slope  \\\n",
       "0           0            150                0            2.3         0   \n",
       "1           1            187                0            3.5         0   \n",
       "2           0            172                0            1.4         2   \n",
       "3           1            178                0            0.8         2   \n",
       "4           1            163                1            0.6         2   \n",
       "..        ...            ...              ...            ...       ...   \n",
       "298         1            123                1            0.2         1   \n",
       "299         1            132                0            1.2         1   \n",
       "300         1            141                0            3.4         1   \n",
       "301         1            115                1            1.2         1   \n",
       "302         0            174                0            0.0         1   \n",
       "\n",
       "     num_vessels  thalassemia  diagnosis  \n",
       "0              0            1          1  \n",
       "1              0            2          1  \n",
       "2              0            2          1  \n",
       "3              0            2          1  \n",
       "4              0            2          1  \n",
       "..           ...          ...        ...  \n",
       "298            0            3          0  \n",
       "299            0            3          0  \n",
       "300            2            3          0  \n",
       "301            1            3          0  \n",
       "302            1            2          0  \n",
       "\n",
       "[303 rows x 14 columns]"
      ]
     },
     "execution_count": 145,
     "metadata": {},
     "output_type": "execute_result"
    }
   ],
   "source": [
    "df_heart.drop([\"chest_pain_n\",\"fasting_bloodsugar_n\", \"diagnosis_n\", \"sex_n\"], axis = 1)"
   ]
  },
  {
   "cell_type": "code",
   "execution_count": 146,
   "id": "aboriginal-solid",
   "metadata": {},
   "outputs": [
    {
     "data": {
      "text/html": [
       "<div>\n",
       "<style scoped>\n",
       "    .dataframe tbody tr th:only-of-type {\n",
       "        vertical-align: middle;\n",
       "    }\n",
       "\n",
       "    .dataframe tbody tr th {\n",
       "        vertical-align: top;\n",
       "    }\n",
       "\n",
       "    .dataframe thead th {\n",
       "        text-align: right;\n",
       "    }\n",
       "</style>\n",
       "<table border=\"1\" class=\"dataframe\">\n",
       "  <thead>\n",
       "    <tr style=\"text-align: right;\">\n",
       "      <th></th>\n",
       "      <th>age</th>\n",
       "      <th>sex</th>\n",
       "      <th>chest_pain</th>\n",
       "      <th>resting_bp</th>\n",
       "      <th>cholesterol</th>\n",
       "      <th>fasting_bloodsugar</th>\n",
       "      <th>rest_ecg</th>\n",
       "      <th>max_heartrate</th>\n",
       "      <th>exercise_angina</th>\n",
       "      <th>st_depression</th>\n",
       "      <th>st_slope</th>\n",
       "      <th>num_vessels</th>\n",
       "      <th>thalassemia</th>\n",
       "      <th>diagnosis</th>\n",
       "    </tr>\n",
       "  </thead>\n",
       "  <tbody>\n",
       "    <tr>\n",
       "      <th>count</th>\n",
       "      <td>303.000000</td>\n",
       "      <td>303.000000</td>\n",
       "      <td>303.000000</td>\n",
       "      <td>303.000000</td>\n",
       "      <td>303.000000</td>\n",
       "      <td>303.000000</td>\n",
       "      <td>303.000000</td>\n",
       "      <td>303.000000</td>\n",
       "      <td>303.000000</td>\n",
       "      <td>303.000000</td>\n",
       "      <td>303.000000</td>\n",
       "      <td>303.000000</td>\n",
       "      <td>303.000000</td>\n",
       "      <td>303.000000</td>\n",
       "    </tr>\n",
       "    <tr>\n",
       "      <th>mean</th>\n",
       "      <td>54.366337</td>\n",
       "      <td>0.683168</td>\n",
       "      <td>0.966997</td>\n",
       "      <td>131.623762</td>\n",
       "      <td>246.264026</td>\n",
       "      <td>0.148515</td>\n",
       "      <td>0.528053</td>\n",
       "      <td>149.646865</td>\n",
       "      <td>0.326733</td>\n",
       "      <td>1.039604</td>\n",
       "      <td>1.399340</td>\n",
       "      <td>0.729373</td>\n",
       "      <td>2.313531</td>\n",
       "      <td>0.544554</td>\n",
       "    </tr>\n",
       "    <tr>\n",
       "      <th>std</th>\n",
       "      <td>9.082101</td>\n",
       "      <td>0.466011</td>\n",
       "      <td>1.032052</td>\n",
       "      <td>17.538143</td>\n",
       "      <td>51.830751</td>\n",
       "      <td>0.356198</td>\n",
       "      <td>0.525860</td>\n",
       "      <td>22.905161</td>\n",
       "      <td>0.469794</td>\n",
       "      <td>1.161075</td>\n",
       "      <td>0.616226</td>\n",
       "      <td>1.022606</td>\n",
       "      <td>0.612277</td>\n",
       "      <td>0.498835</td>\n",
       "    </tr>\n",
       "    <tr>\n",
       "      <th>min</th>\n",
       "      <td>29.000000</td>\n",
       "      <td>0.000000</td>\n",
       "      <td>0.000000</td>\n",
       "      <td>94.000000</td>\n",
       "      <td>126.000000</td>\n",
       "      <td>0.000000</td>\n",
       "      <td>0.000000</td>\n",
       "      <td>71.000000</td>\n",
       "      <td>0.000000</td>\n",
       "      <td>0.000000</td>\n",
       "      <td>0.000000</td>\n",
       "      <td>0.000000</td>\n",
       "      <td>0.000000</td>\n",
       "      <td>0.000000</td>\n",
       "    </tr>\n",
       "    <tr>\n",
       "      <th>25%</th>\n",
       "      <td>47.500000</td>\n",
       "      <td>0.000000</td>\n",
       "      <td>0.000000</td>\n",
       "      <td>120.000000</td>\n",
       "      <td>211.000000</td>\n",
       "      <td>0.000000</td>\n",
       "      <td>0.000000</td>\n",
       "      <td>133.500000</td>\n",
       "      <td>0.000000</td>\n",
       "      <td>0.000000</td>\n",
       "      <td>1.000000</td>\n",
       "      <td>0.000000</td>\n",
       "      <td>2.000000</td>\n",
       "      <td>0.000000</td>\n",
       "    </tr>\n",
       "    <tr>\n",
       "      <th>50%</th>\n",
       "      <td>55.000000</td>\n",
       "      <td>1.000000</td>\n",
       "      <td>1.000000</td>\n",
       "      <td>130.000000</td>\n",
       "      <td>240.000000</td>\n",
       "      <td>0.000000</td>\n",
       "      <td>1.000000</td>\n",
       "      <td>153.000000</td>\n",
       "      <td>0.000000</td>\n",
       "      <td>0.800000</td>\n",
       "      <td>1.000000</td>\n",
       "      <td>0.000000</td>\n",
       "      <td>2.000000</td>\n",
       "      <td>1.000000</td>\n",
       "    </tr>\n",
       "    <tr>\n",
       "      <th>75%</th>\n",
       "      <td>61.000000</td>\n",
       "      <td>1.000000</td>\n",
       "      <td>2.000000</td>\n",
       "      <td>140.000000</td>\n",
       "      <td>274.500000</td>\n",
       "      <td>0.000000</td>\n",
       "      <td>1.000000</td>\n",
       "      <td>166.000000</td>\n",
       "      <td>1.000000</td>\n",
       "      <td>1.600000</td>\n",
       "      <td>2.000000</td>\n",
       "      <td>1.000000</td>\n",
       "      <td>3.000000</td>\n",
       "      <td>1.000000</td>\n",
       "    </tr>\n",
       "    <tr>\n",
       "      <th>max</th>\n",
       "      <td>77.000000</td>\n",
       "      <td>1.000000</td>\n",
       "      <td>3.000000</td>\n",
       "      <td>200.000000</td>\n",
       "      <td>564.000000</td>\n",
       "      <td>1.000000</td>\n",
       "      <td>2.000000</td>\n",
       "      <td>202.000000</td>\n",
       "      <td>1.000000</td>\n",
       "      <td>6.200000</td>\n",
       "      <td>2.000000</td>\n",
       "      <td>4.000000</td>\n",
       "      <td>3.000000</td>\n",
       "      <td>1.000000</td>\n",
       "    </tr>\n",
       "  </tbody>\n",
       "</table>\n",
       "</div>"
      ],
      "text/plain": [
       "              age         sex  chest_pain  resting_bp  cholesterol  \\\n",
       "count  303.000000  303.000000  303.000000  303.000000   303.000000   \n",
       "mean    54.366337    0.683168    0.966997  131.623762   246.264026   \n",
       "std      9.082101    0.466011    1.032052   17.538143    51.830751   \n",
       "min     29.000000    0.000000    0.000000   94.000000   126.000000   \n",
       "25%     47.500000    0.000000    0.000000  120.000000   211.000000   \n",
       "50%     55.000000    1.000000    1.000000  130.000000   240.000000   \n",
       "75%     61.000000    1.000000    2.000000  140.000000   274.500000   \n",
       "max     77.000000    1.000000    3.000000  200.000000   564.000000   \n",
       "\n",
       "       fasting_bloodsugar    rest_ecg  max_heartrate  exercise_angina  \\\n",
       "count          303.000000  303.000000     303.000000       303.000000   \n",
       "mean             0.148515    0.528053     149.646865         0.326733   \n",
       "std              0.356198    0.525860      22.905161         0.469794   \n",
       "min              0.000000    0.000000      71.000000         0.000000   \n",
       "25%              0.000000    0.000000     133.500000         0.000000   \n",
       "50%              0.000000    1.000000     153.000000         0.000000   \n",
       "75%              0.000000    1.000000     166.000000         1.000000   \n",
       "max              1.000000    2.000000     202.000000         1.000000   \n",
       "\n",
       "       st_depression    st_slope  num_vessels  thalassemia   diagnosis  \n",
       "count     303.000000  303.000000   303.000000   303.000000  303.000000  \n",
       "mean        1.039604    1.399340     0.729373     2.313531    0.544554  \n",
       "std         1.161075    0.616226     1.022606     0.612277    0.498835  \n",
       "min         0.000000    0.000000     0.000000     0.000000    0.000000  \n",
       "25%         0.000000    1.000000     0.000000     2.000000    0.000000  \n",
       "50%         0.800000    1.000000     0.000000     2.000000    1.000000  \n",
       "75%         1.600000    2.000000     1.000000     3.000000    1.000000  \n",
       "max         6.200000    2.000000     4.000000     3.000000    1.000000  "
      ]
     },
     "execution_count": 146,
     "metadata": {},
     "output_type": "execute_result"
    }
   ],
   "source": [
    "df_heart.describe()"
   ]
  },
  {
   "cell_type": "markdown",
   "id": "digital-essex",
   "metadata": {},
   "source": [
    "After some analysis, we can see that our sample is around the age of 54, with a mean cholesterol level of 246 and max heart rate of 150. Most individuals had no major blood vessels, and <= 120 mg/dl fasting blood sugar. About two thirds of the sample was male, with a typical angina being the most common chest pain type. Going from here, we will need to move into looking at how we can predict if someone is at risk of experiencing a heart attack based on these factors.\n",
    "\n",
    "We also took a look at the diagnosis of individuals while looking at some of these variables, and we can clearly see that the proportion of people with 0 major blood vessels may increase your risk of having a heart attack. Similarly, those who reported atypical angina or non-anginal pain had proportionally more subjects who had heart attacks than didn't.\n",
    "\n",
    "---\n",
    "### Machine Learning\n",
    "Now that we have looked at our data and seen that some of these variables may pose for a hihger risk of heart issues. The next step in the data science pipeline is hypothesis testing, therefore we must first come up with a hypothesis."
   ]
  },
  {
   "cell_type": "code",
   "execution_count": null,
   "id": "informed-messaging",
   "metadata": {},
   "outputs": [],
   "source": []
  },
  {
   "cell_type": "code",
   "execution_count": null,
   "id": "developmental-roads",
   "metadata": {},
   "outputs": [],
   "source": []
  },
  {
   "cell_type": "code",
   "execution_count": null,
   "id": "developed-hypothesis",
   "metadata": {},
   "outputs": [],
   "source": []
  }
 ],
 "metadata": {
  "kernelspec": {
   "display_name": "Python 3",
   "language": "python",
   "name": "python3"
  },
  "language_info": {
   "codemirror_mode": {
    "name": "ipython",
    "version": 3
   },
   "file_extension": ".py",
   "mimetype": "text/x-python",
   "name": "python",
   "nbconvert_exporter": "python",
   "pygments_lexer": "ipython3",
   "version": "3.8.6"
  }
 },
 "nbformat": 4,
 "nbformat_minor": 5
}
