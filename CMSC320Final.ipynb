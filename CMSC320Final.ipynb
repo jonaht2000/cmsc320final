{
 "cells": [
  {
   "cell_type": "markdown",
   "id": "7f2c1d2a",
   "metadata": {},
   "source": [
    "# Heart Attack Analysis and Prediction\n",
    "### By Jonah Trani, Hans, Andy\n",
    "### Introduction\n"
   ]
  },
  {
   "cell_type": "code",
   "execution_count": null,
   "id": "41aa9a6a",
   "metadata": {},
   "outputs": [],
   "source": [
    "import pandas as pd\n",
    "import numpy as np\n"
   ]
  }
 ],
 "metadata": {
  "kernelspec": {
   "display_name": "Python 3",
   "language": "python",
   "name": "python3"
  },
  "language_info": {
   "codemirror_mode": {
    "name": "ipython",
    "version": 3
   },
   "file_extension": ".py",
   "mimetype": "text/x-python",
   "name": "python",
   "nbconvert_exporter": "python",
   "pygments_lexer": "ipython3",
   "version": "3.9.2"
  }
 },
 "nbformat": 4,
 "nbformat_minor": 5
}
